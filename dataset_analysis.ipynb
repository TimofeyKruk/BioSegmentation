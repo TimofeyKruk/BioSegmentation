{
 "cells": [
  {
   "cell_type": "code",
   "execution_count": 2,
   "metadata": {},
   "outputs": [],
   "source": [
    "import numpy as np\n",
    "import openslide\n",
    "import matplotlib.pyplot as plt\n",
    "import os\n",
    "import tqdm"
   ]
  },
  {
   "cell_type": "code",
   "execution_count": 3,
   "metadata": {},
   "outputs": [
    {
     "name": "stdout",
     "output_type": "stream",
     "text": [
      "patient_020_node_4.tif\n",
      "patient_045_node_1.tif\n",
      "patient_051_node_2.tif\n",
      "patient_044_node_4.tif\n",
      "patient_046_node_4.tif\n",
      "patient_042_node_3.tif\n",
      "patient_060_node_3.tif\n",
      "patient_075_node_4.tif\n",
      "patient_022_node_4.tif\n",
      "patient_034_node_3.tif\n",
      "patient_061_node_4.tif\n",
      "patient_015_node_2.tif\n",
      "patient_087_node_0.tif\n",
      "patient_017_node_1.tif\n",
      "patient_066_node_2.tif\n",
      "patient_080_node_1.tif\n",
      "patient_064_node_0.tif\n",
      "patient_024_node_2.tif\n",
      "patient_052_node_1.tif\n",
      "patient_041_node_0.tif\n",
      "patient_036_node_3.tif\n",
      "patient_086_node_0.tif\n",
      "patient_099_node_4.tif\n",
      "patient_015_node_1.tif\n",
      "patient_020_node_2.tif\n",
      "patient_081_node_4.tif\n",
      "patient_067_node_4.tif\n",
      "patient_017_node_2.tif\n",
      "patient_017_node_4.tif\n",
      "patient_086_node_4.tif\n",
      "patient_089_node_3.tif\n",
      "patient_088_node_1.tif\n",
      "patient_038_node_2.tif\n",
      "patient_073_node_1.tif\n",
      "patient_004_node_4.tif\n",
      "patient_048_node_1.tif\n",
      "patient_010_node_4.tif\n",
      "patient_012_node_0.tif\n",
      "patient_024_node_1.tif\n",
      "patient_040_node_2.tif\n",
      "patient_092_node_1.tif\n",
      "patient_068_node_1.tif\n",
      "patient_016_node_1.tif\n",
      "patient_046_node_3.tif\n",
      "patient_096_node_0.tif\n",
      "patient_039_node_1.tif\n",
      "patient_009_node_1.tif\n",
      "patient_021_node_3.tif\n",
      "patient_072_node_0.tif\n",
      "patient_062_node_2.tif\n",
      "Number of files:  50\n",
      "Last file  patient_062_node_2.tif\n"
     ]
    }
   ],
   "source": [
    "slides_path=\"/media/krukts/HDD/BioDiploma/UIIP_Histo_DATA/CAM17/wsi\"\n",
    "for filename in os.listdir(slides_path)[::-1]:\n",
    "    print(filename)\n",
    "\n",
    "print(\"Number of files: \",len(os.listdir(slides_path)))\n",
    "\n",
    "print(\"Last file \",filename)"
   ]
  },
  {
   "cell_type": "code",
   "execution_count": 9,
   "metadata": {},
   "outputs": [
    {
     "name": "stdout",
     "output_type": "stream",
     "text": [
      "Level_count: 9\n",
      "dimensions: (116224, 87040)\n",
      "level_dimensions: ((116224, 87040), (58112, 43520), (29056, 21760), (14528, 10880), (7264, 5440), (3632, 2720), (1816, 1360), (908, 680), (454, 340))\n",
      "dimensions: (116224, 87040)\n",
      "level_downsamples: (1.0, 2.0, 4.0, 8.0, 16.0, 32.0, 64.0, 128.0, 256.0)\n"
     ]
    }
   ],
   "source": [
    "filename=\"patient_099_node_4.tif\"\n",
    "slide=openslide.OpenSlide(os.path.join(slides_path,filename))\n",
    "print(\"Level_count:\", slide.level_count)\n",
    "print(\"dimensions:\", slide.dimensions)\n",
    "print(\"level_dimensions:\", slide.level_dimensions)\n",
    "print(\"dimensions:\", slide.dimensions)\n",
    "print(\"level_downsamples:\", slide.level_downsamples)\n",
    "#print(\"properties:\", slide.properties)\n",
    "\n",
    "\n",
    "\n",
    "# tissue_region=slide.read_region((10000,37000),2,(6000,6000))\n",
    "tissue_region=slide.get_thumbnail((1000,1000))\n",
    "# plt.figure(figsize=(8,8))\n",
    "# plt.imshow(tissue_region)\n",
    "# plt.show()\n",
    "tissue_region.save(\"mini/thumb.png\",\"png\")"
   ]
  },
  {
   "cell_type": "code",
   "execution_count": 1,
   "metadata": {},
   "outputs": [
    {
     "ename": "NameError",
     "evalue": "name 'slide' is not defined",
     "output_type": "error",
     "traceback": [
      "\u001B[0;31m---------------------------------------------------------------------------\u001B[0m",
      "\u001B[0;31mNameError\u001B[0m                                 Traceback (most recent call last)",
      "\u001B[0;32m<ipython-input-1-4d2c75be6320>\u001B[0m in \u001B[0;36m<module>\u001B[0;34m\u001B[0m\n\u001B[1;32m      3\u001B[0m \u001B[0mlevel\u001B[0m\u001B[0;34m=\u001B[0m\u001B[0;36m2\u001B[0m\u001B[0;34m\u001B[0m\u001B[0;34m\u001B[0m\u001B[0m\n\u001B[1;32m      4\u001B[0m \u001B[0msize\u001B[0m\u001B[0;34m=\u001B[0m\u001B[0;36m512\u001B[0m\u001B[0;34m\u001B[0m\u001B[0;34m\u001B[0m\u001B[0m\n\u001B[0;32m----> 5\u001B[0;31m \u001B[0mx\u001B[0m\u001B[0;34m=\u001B[0m\u001B[0mslide\u001B[0m\u001B[0;34m.\u001B[0m\u001B[0mlevel_dimensions\u001B[0m\u001B[0;34m[\u001B[0m\u001B[0mlevel\u001B[0m\u001B[0;34m]\u001B[0m\u001B[0;34m[\u001B[0m\u001B[0;36m0\u001B[0m\u001B[0;34m]\u001B[0m\u001B[0;34m\u001B[0m\u001B[0;34m\u001B[0m\u001B[0m\n\u001B[0m\u001B[1;32m      6\u001B[0m \u001B[0my\u001B[0m\u001B[0;34m=\u001B[0m\u001B[0mslide\u001B[0m\u001B[0;34m.\u001B[0m\u001B[0mlevel_dimensions\u001B[0m\u001B[0;34m[\u001B[0m\u001B[0mlevel\u001B[0m\u001B[0;34m]\u001B[0m\u001B[0;34m[\u001B[0m\u001B[0;36m1\u001B[0m\u001B[0;34m]\u001B[0m\u001B[0;34m\u001B[0m\u001B[0;34m\u001B[0m\u001B[0m\n\u001B[1;32m      7\u001B[0m \u001B[0mprint\u001B[0m\u001B[0;34m(\u001B[0m\u001B[0;34m\"level shape: \"\u001B[0m\u001B[0;34m,\u001B[0m\u001B[0mslide\u001B[0m\u001B[0;34m.\u001B[0m\u001B[0mlevel_dimensions\u001B[0m\u001B[0;34m[\u001B[0m\u001B[0mlevel\u001B[0m\u001B[0;34m]\u001B[0m\u001B[0;34m)\u001B[0m\u001B[0;34m\u001B[0m\u001B[0;34m\u001B[0m\u001B[0m\n",
      "\u001B[0;31mNameError\u001B[0m: name 'slide' is not defined"
     ]
    }
   ],
   "source": [
    "save_path=\"mini\"\n",
    "\n",
    "level=2\n",
    "size=512\n",
    "x=slide.level_dimensions[level][0]\n",
    "y=slide.level_dimensions[level][1]\n",
    "\n",
    "print(\"level shape: \",slide.level_dimensions[level])\n",
    "\n",
    "for i in range(x//size):\n",
    "    print(i)\n",
    "    for j in range(y//size):\n",
    "        small_region=slide.read_region((i*size,j*size),level,(size,size))\n",
    "        small_region.save(os.path.join(save_path,\"y\"+str(j)+\"_x\"+str(i)+\".png\"),\"png\")\n",
    "    "
   ]
  },
  {
   "cell_type": "code",
   "execution_count": null,
   "metadata": {},
   "outputs": [],
   "source": [
    "\n"
   ]
  }
 ],
 "metadata": {
  "kernelspec": {
   "display_name": "Python 3",
   "language": "python",
   "name": "python3"
  },
  "language_info": {
   "codemirror_mode": {
    "name": "ipython",
    "version": 3
   },
   "file_extension": ".py",
   "mimetype": "text/x-python",
   "name": "python",
   "nbconvert_exporter": "python",
   "pygments_lexer": "ipython3",
   "version": "3.6.12"
  }
 },
 "nbformat": 4,
 "nbformat_minor": 2
}